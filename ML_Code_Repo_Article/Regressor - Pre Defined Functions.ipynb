{
 "cells": [
  {
   "cell_type": "markdown",
   "id": "baf11f3d",
   "metadata": {},
   "source": [
    "# Regressor Pre-Defined functions with Linear Regression Example"
   ]
  },
  {
   "cell_type": "markdown",
   "id": "4ae92a1b",
   "metadata": {},
   "source": [
    "## Defining the functions"
   ]
  },
  {
   "cell_type": "code",
   "execution_count": 1,
   "id": "15d6d5aa",
   "metadata": {},
   "outputs": [],
   "source": [
    "import pandas as pd\n",
    "import numpy as np\n",
    "\n",
    "#This dataframe stores the scores from regressor models\n",
    "df_model=pd.DataFrame(columns=['Model', 'MAE' ,'RMSE', 'R2 Score' , 'Adjusted R2 Score'])\n",
    "df_model_performance =df_model\n",
    "\n",
    "#This data frame stores the train and test \"adjusted R2 scores\" from regressor models to compare at the end of the model building. This can also be further modified to compare the other score such as MSE , RMSE  etc\n",
    "df_model_test_train_r2 = pd.DataFrame(columns=['Model' , 'Train Adjusted R2 Score' ,'Test Adjusted R2 Score'])\n",
    "df_model_r2 =df_model_test_train_r2"
   ]
  },
  {
   "cell_type": "code",
   "execution_count": 2,
   "id": "eab96b5f",
   "metadata": {},
   "outputs": [],
   "source": [
    "from sklearn.model_selection import GridSearchCV \n",
    "def get_best_hyperparameters(model, params, cv_value , X_train, y_train ): \n",
    "    search = GridSearchCV(estimator=model, param_grid=params, n_jobs=-1, verbose=1,cv=cv_value) \n",
    "    search.fit(X_train, y_train)  \n",
    "    print(\"Best Accuracy    :\",  search.best_score_) \n",
    "    print(\"Best Parameters  : \", search.best_params_)\n",
    "    print(\"Best Estimators : \",  search.best_estimator_)  \n",
    "    best_grid = search.best_estimator_\n",
    "    return best_grid"
   ]
  },
  {
   "cell_type": "code",
   "execution_count": 3,
   "id": "333f0177",
   "metadata": {},
   "outputs": [],
   "source": [
    "def get_regressor_predictions(regressor, X_train, y_train, X_test):  \n",
    "    regressor.fit(X_train,y_train)\n",
    "    y_pred_train =regressor.predict(X_train)\n",
    "    y_pred_test = regressor.predict(X_test)\n",
    "    return y_pred_train, y_pred_test"
   ]
  },
  {
   "cell_type": "code",
   "execution_count": 4,
   "id": "63c7fdd5",
   "metadata": {},
   "outputs": [],
   "source": [
    "# For regressor \n",
    "from sklearn.metrics import mean_absolute_error, mean_squared_error, r2_score\n",
    "def print_regressor_scores(regressor, X_train, X_test, y_train ,y_test,y_pred_train, y_pred_test,algorithm):\n",
    "    \n",
    "    # store regressor scores for Training Dataset\n",
    "    MAE_train = mean_absolute_error(y_train, y_pred_train)\n",
    "    RMSE_train = np.sqrt( mean_squared_error(y_train, y_pred_train))\n",
    "    r2_score_train = r2_score(y_train, y_pred_train)\n",
    "    # Calculating Adjusted R2 for training set\n",
    "    SS_Residual_train = sum((y_train-y_pred_train)**2)\n",
    "    SS_Total_train = sum((y_train-np.mean(y_train))**2)\n",
    "    r_squared_train = 1 - (float(SS_Residual_train))/SS_Total_train\n",
    "    adj_r_sq_train = 1 - (1-r_squared_train)*(len(y_train)-1)/(len(y_train)-X_train.shape[1]-1)\n",
    "    \n",
    "    # print regressor scores for Training Dataset\n",
    "    print('MAE for training set is {}'.format(MAE_train))\n",
    "    print('RMSE for training set is {}'.format(RMSE_train))\n",
    "    print('R squared score for training set is {}'.format(r2_score_train))\n",
    "    print('Adjusted R squared score for training set is {}'.format(adj_r_sq_train))\n",
    "    \n",
    "    # store regressor scores for Test Dataset\n",
    "    MAE_test = mean_absolute_error(y_test, y_pred_test)\n",
    "    RMSE_test = np.sqrt(mean_squared_error(y_test, y_pred_test))\n",
    "    r2_score_test = r2_score(y_test, y_pred_test)\n",
    "    # Calculating Adjusted R2 for test set\n",
    "    SS_Residual_test = sum((y_test-y_pred_test)**2)\n",
    "    SS_Total_test = sum((y_test-np.mean(y_test))**2)\n",
    "    r_squared_test = 1 - (float(SS_Residual_test))/SS_Total_test\n",
    "    adj_r_sq_test = 1 - (1-r_squared_test)*(len(y_test)-1)/(len(y_test)-X_test.shape[1]-1)\n",
    "    \n",
    "    # print regressor scores for Test Dataset \n",
    "    print('MAE for test set is {}'.format(MAE_test))\n",
    "    print('RMSE for test set is {}'.format(RMSE_test))\n",
    "    print('R squared score for test set is {}'.format(r2_score_test))\n",
    "    print('Adjusted R squared score for testing set is {}'.format(adj_r_sq_test))\n",
    "    \n",
    "    # store to append the results in dataframe for final comparison of performance\n",
    "    df_model_test_train_r2= dict({'Model' : algorithm, 'Train Adjusted R2 Score' :adj_r_sq_train,'Test Adjusted R2 Score' :adj_r_sq_test })\n",
    "    df_model_performance = dict({'Model' : algorithm, 'MAE' : MAE_test, 'RMSE' : RMSE_test, 'R2 Score' : r2_score_test, 'Adjusted R2 Score' :adj_r_sq_test})\n",
    "    return df_model_test_train_r2 , df_model_performance"
   ]
  },
  {
   "cell_type": "markdown",
   "id": "4c630e1d",
   "metadata": {},
   "source": [
    "## Get the data set and transform into X (independent ) and y (dependent)"
   ]
  },
  {
   "cell_type": "code",
   "execution_count": 5,
   "id": "5a6474b4",
   "metadata": {},
   "outputs": [
    {
     "name": "stdout",
     "output_type": "stream",
     "text": [
      "Data Shape: (1197, 15)\n"
     ]
    },
    {
     "data": {
      "text/html": [
       "<div>\n",
       "<style scoped>\n",
       "    .dataframe tbody tr th:only-of-type {\n",
       "        vertical-align: middle;\n",
       "    }\n",
       "\n",
       "    .dataframe tbody tr th {\n",
       "        vertical-align: top;\n",
       "    }\n",
       "\n",
       "    .dataframe thead th {\n",
       "        text-align: right;\n",
       "    }\n",
       "</style>\n",
       "<table border=\"1\" class=\"dataframe\">\n",
       "  <thead>\n",
       "    <tr style=\"text-align: right;\">\n",
       "      <th></th>\n",
       "      <th>date</th>\n",
       "      <th>quarter</th>\n",
       "      <th>department</th>\n",
       "      <th>day</th>\n",
       "      <th>team</th>\n",
       "      <th>targeted_productivity</th>\n",
       "      <th>smv</th>\n",
       "      <th>wip</th>\n",
       "      <th>over_time</th>\n",
       "      <th>incentive</th>\n",
       "      <th>idle_time</th>\n",
       "      <th>idle_men</th>\n",
       "      <th>no_of_style_change</th>\n",
       "      <th>no_of_workers</th>\n",
       "      <th>actual_productivity</th>\n",
       "    </tr>\n",
       "  </thead>\n",
       "  <tbody>\n",
       "    <tr>\n",
       "      <th>0</th>\n",
       "      <td>1/1/2015</td>\n",
       "      <td>Quarter1</td>\n",
       "      <td>sweing</td>\n",
       "      <td>Thursday</td>\n",
       "      <td>8</td>\n",
       "      <td>0.80</td>\n",
       "      <td>26.16</td>\n",
       "      <td>1108.0</td>\n",
       "      <td>7080</td>\n",
       "      <td>98</td>\n",
       "      <td>0.0</td>\n",
       "      <td>0</td>\n",
       "      <td>0</td>\n",
       "      <td>59.0</td>\n",
       "      <td>0.940725</td>\n",
       "    </tr>\n",
       "    <tr>\n",
       "      <th>1</th>\n",
       "      <td>1/1/2015</td>\n",
       "      <td>Quarter1</td>\n",
       "      <td>finishing</td>\n",
       "      <td>Thursday</td>\n",
       "      <td>1</td>\n",
       "      <td>0.75</td>\n",
       "      <td>3.94</td>\n",
       "      <td>NaN</td>\n",
       "      <td>960</td>\n",
       "      <td>0</td>\n",
       "      <td>0.0</td>\n",
       "      <td>0</td>\n",
       "      <td>0</td>\n",
       "      <td>8.0</td>\n",
       "      <td>0.886500</td>\n",
       "    </tr>\n",
       "    <tr>\n",
       "      <th>2</th>\n",
       "      <td>1/1/2015</td>\n",
       "      <td>Quarter1</td>\n",
       "      <td>sweing</td>\n",
       "      <td>Thursday</td>\n",
       "      <td>11</td>\n",
       "      <td>0.80</td>\n",
       "      <td>11.41</td>\n",
       "      <td>968.0</td>\n",
       "      <td>3660</td>\n",
       "      <td>50</td>\n",
       "      <td>0.0</td>\n",
       "      <td>0</td>\n",
       "      <td>0</td>\n",
       "      <td>30.5</td>\n",
       "      <td>0.800570</td>\n",
       "    </tr>\n",
       "    <tr>\n",
       "      <th>3</th>\n",
       "      <td>1/1/2015</td>\n",
       "      <td>Quarter1</td>\n",
       "      <td>sweing</td>\n",
       "      <td>Thursday</td>\n",
       "      <td>12</td>\n",
       "      <td>0.80</td>\n",
       "      <td>11.41</td>\n",
       "      <td>968.0</td>\n",
       "      <td>3660</td>\n",
       "      <td>50</td>\n",
       "      <td>0.0</td>\n",
       "      <td>0</td>\n",
       "      <td>0</td>\n",
       "      <td>30.5</td>\n",
       "      <td>0.800570</td>\n",
       "    </tr>\n",
       "    <tr>\n",
       "      <th>4</th>\n",
       "      <td>1/1/2015</td>\n",
       "      <td>Quarter1</td>\n",
       "      <td>sweing</td>\n",
       "      <td>Thursday</td>\n",
       "      <td>6</td>\n",
       "      <td>0.80</td>\n",
       "      <td>25.90</td>\n",
       "      <td>1170.0</td>\n",
       "      <td>1920</td>\n",
       "      <td>50</td>\n",
       "      <td>0.0</td>\n",
       "      <td>0</td>\n",
       "      <td>0</td>\n",
       "      <td>56.0</td>\n",
       "      <td>0.800382</td>\n",
       "    </tr>\n",
       "  </tbody>\n",
       "</table>\n",
       "</div>"
      ],
      "text/plain": [
       "       date   quarter  department       day  team  targeted_productivity  \\\n",
       "0  1/1/2015  Quarter1      sweing  Thursday     8                   0.80   \n",
       "1  1/1/2015  Quarter1  finishing   Thursday     1                   0.75   \n",
       "2  1/1/2015  Quarter1      sweing  Thursday    11                   0.80   \n",
       "3  1/1/2015  Quarter1      sweing  Thursday    12                   0.80   \n",
       "4  1/1/2015  Quarter1      sweing  Thursday     6                   0.80   \n",
       "\n",
       "     smv     wip  over_time  incentive  idle_time  idle_men  \\\n",
       "0  26.16  1108.0       7080         98        0.0         0   \n",
       "1   3.94     NaN        960          0        0.0         0   \n",
       "2  11.41   968.0       3660         50        0.0         0   \n",
       "3  11.41   968.0       3660         50        0.0         0   \n",
       "4  25.90  1170.0       1920         50        0.0         0   \n",
       "\n",
       "   no_of_style_change  no_of_workers  actual_productivity  \n",
       "0                   0           59.0             0.940725  \n",
       "1                   0            8.0             0.886500  \n",
       "2                   0           30.5             0.800570  \n",
       "3                   0           30.5             0.800570  \n",
       "4                   0           56.0             0.800382  "
      ]
     },
     "execution_count": 5,
     "metadata": {},
     "output_type": "execute_result"
    }
   ],
   "source": [
    "df_garment_prod = pd.read_csv(filepath_or_buffer = 'https://archive.ics.uci.edu/ml/machine-learning-databases/00597/garments_worker_productivity.csv')\n",
    "print('Data Shape:', df_garment_prod.shape)\n",
    "df_garment_prod.head()"
   ]
  },
  {
   "cell_type": "code",
   "execution_count": 6,
   "id": "73434421",
   "metadata": {},
   "outputs": [],
   "source": [
    "df_garment_prod = df_garment_prod.replace((np.inf, -np.inf, np.nan), 0).reset_index(drop=True)"
   ]
  },
  {
   "cell_type": "code",
   "execution_count": 7,
   "id": "87964301",
   "metadata": {},
   "outputs": [],
   "source": [
    "df_garment_prod=df_garment_prod.dropna()"
   ]
  },
  {
   "cell_type": "code",
   "execution_count": 8,
   "id": "eed8e834",
   "metadata": {},
   "outputs": [],
   "source": [
    "X = df_garment_prod.iloc[:,:-2] "
   ]
  },
  {
   "cell_type": "code",
   "execution_count": 9,
   "id": "babf06c7",
   "metadata": {},
   "outputs": [],
   "source": [
    "y = df_garment_prod['actual_productivity']"
   ]
  },
  {
   "cell_type": "code",
   "execution_count": 10,
   "id": "a182ea0b",
   "metadata": {},
   "outputs": [],
   "source": [
    "X = pd.get_dummies(X, columns=['quarter' ,'department' , 'team', 'no_of_style_change'],  drop_first=True)"
   ]
  },
  {
   "cell_type": "code",
   "execution_count": 11,
   "id": "deb1e23e",
   "metadata": {},
   "outputs": [],
   "source": [
    "X.drop(columns=['date','day'],inplace=True)"
   ]
  },
  {
   "cell_type": "markdown",
   "id": "67e574b9",
   "metadata": {},
   "source": [
    "## Split the dataset into Train and Test"
   ]
  },
  {
   "cell_type": "code",
   "execution_count": 12,
   "id": "dbcbb338",
   "metadata": {},
   "outputs": [
    {
     "name": "stdout",
     "output_type": "stream",
     "text": [
      "(897, 26)\n",
      "(897,)\n",
      "(300, 26)\n",
      "(300,)\n"
     ]
    }
   ],
   "source": [
    "from sklearn.model_selection import train_test_split\n",
    "X_train, X_test, y_train, y_test = train_test_split(X, y, test_size=0.25, random_state=0)\n",
    "print(X_train.shape)\n",
    "print(y_train.shape)\n",
    "print(X_test.shape)\n",
    "print(y_test.shape)"
   ]
  },
  {
   "cell_type": "markdown",
   "id": "e2b460ee",
   "metadata": {},
   "source": [
    "## Linear Regression Model using pre-defined functions"
   ]
  },
  {
   "cell_type": "markdown",
   "id": "24320fff",
   "metadata": {},
   "source": [
    "Hyperparameter Tuning - This step is optional or and empty parameter dictionary can also be passed"
   ]
  },
  {
   "cell_type": "code",
   "execution_count": 13,
   "id": "ea5a8f08",
   "metadata": {},
   "outputs": [
    {
     "name": "stdout",
     "output_type": "stream",
     "text": [
      "Fitting 5 folds for each of 4 candidates, totalling 20 fits\n",
      "Best Accuracy    : 0.23458278669584232\n",
      "Best Parameters  :  {'copy_X': True, 'fit_intercept': True}\n",
      "Best Estimators :  LinearRegression()\n"
     ]
    }
   ],
   "source": [
    "from sklearn.linear_model import LinearRegression\n",
    "parameters = {'fit_intercept':[True,False],  'copy_X':[True, False]}\n",
    "lr_best_grid= get_best_hyperparameters(LinearRegression(), parameters, 5, X_train, y_train)"
   ]
  },
  {
   "cell_type": "markdown",
   "id": "f804f762",
   "metadata": {},
   "source": [
    "Fit and predict using Best Grid obtained from hyperparameter tuning"
   ]
  },
  {
   "cell_type": "code",
   "execution_count": 14,
   "id": "ed4aee1f",
   "metadata": {},
   "outputs": [],
   "source": [
    "y_pred_train, y_pred_test = get_regressor_predictions(lr_best_grid, X_train, y_train, X_test )"
   ]
  },
  {
   "cell_type": "markdown",
   "id": "a9f4f6bc",
   "metadata": {},
   "source": [
    "Calculate and print the perfomance metrics"
   ]
  },
  {
   "cell_type": "code",
   "execution_count": 15,
   "id": "818fcf0a",
   "metadata": {},
   "outputs": [
    {
     "name": "stdout",
     "output_type": "stream",
     "text": [
      "MAE for training set is 0.10613632985055337\n",
      "RMSE for training set is 0.14603251981172016\n",
      "R squared score for training set is 0.3088477292725489\n",
      "Adjusted R squared score for training set is 0.2881926039404653\n",
      "MAE for test set is 0.1066209355896\n",
      "RMSE for test set is 0.14358671503672177\n",
      "R squared score for test set is 0.2912632191346879\n",
      "Adjusted R squared score for testing set is 0.22376447809989575\n"
     ]
    }
   ],
   "source": [
    "df_model_test_train_r2_1, df_model_performance1=print_regressor_scores(lr_best_grid, X_train, X_test, y_train , y_test, y_pred_train, y_pred_test , 'Linear Regression')"
   ]
  },
  {
   "cell_type": "markdown",
   "id": "f267d7de",
   "metadata": {},
   "source": [
    "Append the performance metric result to the dataframe to compare the results"
   ]
  },
  {
   "cell_type": "code",
   "execution_count": 16,
   "id": "ee27a156",
   "metadata": {},
   "outputs": [],
   "source": [
    "df_model=df_model.append(df_model_performance1,ignore_index=True )\n",
    "df_model_r2= df_model_r2.append(df_model_test_train_r2_1, ignore_index=True)"
   ]
  },
  {
   "cell_type": "code",
   "execution_count": 17,
   "id": "a0787b93",
   "metadata": {},
   "outputs": [
    {
     "data": {
      "text/html": [
       "<div>\n",
       "<style scoped>\n",
       "    .dataframe tbody tr th:only-of-type {\n",
       "        vertical-align: middle;\n",
       "    }\n",
       "\n",
       "    .dataframe tbody tr th {\n",
       "        vertical-align: top;\n",
       "    }\n",
       "\n",
       "    .dataframe thead th {\n",
       "        text-align: right;\n",
       "    }\n",
       "</style>\n",
       "<table border=\"1\" class=\"dataframe\">\n",
       "  <thead>\n",
       "    <tr style=\"text-align: right;\">\n",
       "      <th></th>\n",
       "      <th>Model</th>\n",
       "      <th>MAE</th>\n",
       "      <th>RMSE</th>\n",
       "      <th>R2 Score</th>\n",
       "      <th>Adjusted R2 Score</th>\n",
       "    </tr>\n",
       "  </thead>\n",
       "  <tbody>\n",
       "    <tr>\n",
       "      <th>0</th>\n",
       "      <td>Linear Regression</td>\n",
       "      <td>0.106621</td>\n",
       "      <td>0.143587</td>\n",
       "      <td>0.291263</td>\n",
       "      <td>0.223764</td>\n",
       "    </tr>\n",
       "  </tbody>\n",
       "</table>\n",
       "</div>"
      ],
      "text/plain": [
       "               Model       MAE      RMSE  R2 Score  Adjusted R2 Score\n",
       "0  Linear Regression  0.106621  0.143587  0.291263           0.223764"
      ]
     },
     "execution_count": 17,
     "metadata": {},
     "output_type": "execute_result"
    }
   ],
   "source": [
    "df_model"
   ]
  },
  {
   "cell_type": "code",
   "execution_count": 18,
   "id": "1c037787",
   "metadata": {},
   "outputs": [
    {
     "data": {
      "text/html": [
       "<div>\n",
       "<style scoped>\n",
       "    .dataframe tbody tr th:only-of-type {\n",
       "        vertical-align: middle;\n",
       "    }\n",
       "\n",
       "    .dataframe tbody tr th {\n",
       "        vertical-align: top;\n",
       "    }\n",
       "\n",
       "    .dataframe thead th {\n",
       "        text-align: right;\n",
       "    }\n",
       "</style>\n",
       "<table border=\"1\" class=\"dataframe\">\n",
       "  <thead>\n",
       "    <tr style=\"text-align: right;\">\n",
       "      <th></th>\n",
       "      <th>Model</th>\n",
       "      <th>Train Adjusted R2 Score</th>\n",
       "      <th>Test Adjusted R2 Score</th>\n",
       "    </tr>\n",
       "  </thead>\n",
       "  <tbody>\n",
       "    <tr>\n",
       "      <th>0</th>\n",
       "      <td>Linear Regression</td>\n",
       "      <td>0.288193</td>\n",
       "      <td>0.223764</td>\n",
       "    </tr>\n",
       "  </tbody>\n",
       "</table>\n",
       "</div>"
      ],
      "text/plain": [
       "               Model  Train Adjusted R2 Score  Test Adjusted R2 Score\n",
       "0  Linear Regression                 0.288193                0.223764"
      ]
     },
     "execution_count": 18,
     "metadata": {},
     "output_type": "execute_result"
    }
   ],
   "source": [
    "df_model_r2"
   ]
  }
 ],
 "metadata": {
  "kernelspec": {
   "display_name": "Python 3 (ipykernel)",
   "language": "python",
   "name": "python3"
  },
  "language_info": {
   "codemirror_mode": {
    "name": "ipython",
    "version": 3
   },
   "file_extension": ".py",
   "mimetype": "text/x-python",
   "name": "python",
   "nbconvert_exporter": "python",
   "pygments_lexer": "ipython3",
   "version": "3.9.7"
  }
 },
 "nbformat": 4,
 "nbformat_minor": 5
}
